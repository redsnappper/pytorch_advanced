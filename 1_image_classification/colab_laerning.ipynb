{
 "cells": [
  {
   "cell_type": "code",
   "execution_count": 1,
   "metadata": {},
   "outputs": [],
   "source": [
    "from tqdm import tqdm\n",
    "import os.path as osp\n",
    "import numpy as np\n",
    "import json\n",
    "import random\n",
    "from PIL import Image\n",
    "import matplotlib.pyplot as plt\n",
    "%matplotlib inline\n",
    "\n",
    "import torch\n",
    "import torch.nn as nn\n",
    "import torch.optim as optim\n",
    "import torch.utils.data as data\n",
    "import torchvision\n",
    "from torchvision import models, transforms"
   ]
  },
  {
   "cell_type": "code",
   "execution_count": 2,
   "metadata": {},
   "outputs": [],
   "source": [
    "rnd = 1234\n",
    "torch.manual_seed(rnd)\n",
    "np.random.seed(rnd)\n",
    "random.seed(rnd)"
   ]
  },
  {
   "cell_type": "code",
   "execution_count": 3,
   "metadata": {},
   "outputs": [],
   "source": [
    "class BaseTransform():\n",
    "    def __init__(self, resize, mean, std):\n",
    "        self.base_transform = transforms.Compose([\n",
    "            transforms.Resize(resize),\n",
    "            transforms.CenterCrop(resize),\n",
    "            transforms.ToTensor(),\n",
    "            transforms.Normalize(mean, std)\n",
    "        ])\n",
    "\n",
    "    def __call__(self, img):\n",
    "        return self.base_transform(img)"
   ]
  },
  {
   "cell_type": "code",
   "execution_count": 4,
   "metadata": {},
   "outputs": [],
   "source": [
    "ILSVRC_class_index = json.load(open('./data/imagenet_class_index.json', 'r'))"
   ]
  },
  {
   "cell_type": "code",
   "execution_count": 5,
   "metadata": {},
   "outputs": [],
   "source": [
    "class ILSVRCPredictor():\n",
    "    def __init__(self, class_index):\n",
    "        self.class_index = class_index\n",
    "\n",
    "    def predict_max(self, out):\n",
    "        maxid = np.argmax(out.detach().numpy())\n",
    "        predicted_label_name = self.class_index[str(maxid)][1]\n",
    "\n",
    "        return predicted_label_name"
   ]
  },
  {
   "cell_type": "code",
   "execution_count": 6,
   "metadata": {},
   "outputs": [
    {
     "name": "stdout",
     "output_type": "stream",
     "text": [
      "Result: golden_retriever\n"
     ]
    }
   ],
   "source": [
    "predictor = ILSVRCPredictor(ILSVRC_class_index)\n",
    "\n",
    "image_file_path = './data/goldenretriever-3724972_640.jpg'\n",
    "img = Image.open(image_file_path)\n",
    "\n",
    "resize = 224\n",
    "mean = (0.485, 0.456, 0.406)\n",
    "std = (0.229, 0.224, 0.225)\n",
    "\n",
    "transform = BaseTransform(resize, mean, std)\n",
    "img_transformed = transform(img)\n",
    "inputs = img_transformed.unsqueeze_(0)\n",
    "\n",
    "use_pretrained = True\n",
    "net = models.vgg16(pretrained=use_pretrained)\n",
    "net.eval()\n",
    "\n",
    "out = net(inputs)\n",
    "result = predictor.predict_max(out)\n",
    "\n",
    "print(\"Result: {}\".format(result))"
   ]
  },
  {
   "cell_type": "code",
   "execution_count": 8,
   "metadata": {},
   "outputs": [],
   "source": [
    "class ImageTransform():\n",
    "    def __init__(self, resize, mean, std):\n",
    "       self.data_transform = {\n",
    "           'train': transform.Compose([\n",
    "               transforms.RandomResizedCrop(\n",
    "                   resize, scale=(0.5, 1.0)),\n",
    "                transforms.RandomHorizontalFlip(),\n",
    "                transforms.ToTensor(),\n",
    "                transforms.Normalize(mean, std)\n",
    "           ]),\n",
    "           'val': transforms.Compose([\n",
    "               transforms.Resize(resize),\n",
    "               transforms.CenterCrop(resize),\n",
    "               transforms.ToTensor(),\n",
    "               transforms.Normalize(mean, std)\n",
    "               ])\n",
    "            }\n",
    "\n",
    "    def __call__(self, img, phase='train'):\n",
    "        return self.data_transform[phase](img)"
   ]
  }
 ],
 "metadata": {
  "interpreter": {
   "hash": "40d3a090f54c6569ab1632332b64b2c03c39dcf918b08424e98f38b5ae0af88f"
  },
  "kernelspec": {
   "display_name": "Python 3.8.8 64-bit ('base': conda)",
   "language": "python",
   "name": "python3"
  },
  "language_info": {
   "codemirror_mode": {
    "name": "ipython",
    "version": 3
   },
   "file_extension": ".py",
   "mimetype": "text/x-python",
   "name": "python",
   "nbconvert_exporter": "python",
   "pygments_lexer": "ipython3",
   "version": "3.8.8"
  },
  "orig_nbformat": 4
 },
 "nbformat": 4,
 "nbformat_minor": 2
}
